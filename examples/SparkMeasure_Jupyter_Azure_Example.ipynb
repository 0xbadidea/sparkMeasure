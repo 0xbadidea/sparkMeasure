{
 "cells": [
  {
   "cell_type": "markdown",
   "metadata": {},
   "source": [
    "# Jupyter Notebook to Showcase sparkMeasure APIs for Python"
   ]
  },
  {
   "cell_type": "markdown",
   "metadata": {},
   "source": [
    "### [Run on Azure Notebooks](https://sparkmeasure-lucacanali.notebooks.azure.com/j/notebooks/SparkMeasure_Jupyter_Azure_Example.ipynb)"
   ]
  },
  {
   "cell_type": "markdown",
   "metadata": {},
   "source": [
    "**SparkMeasure is a tool for performance troubleshooting of Apache Spark workloads**  \n",
    "It simplifies the collection and analysis of Spark performance metrics. It is also intended as a working example of how to use Spark listeners for collecting and processing Spark executors task metrics data.\n",
    "\n",
    "**References:**\n",
    "- [https://github.com/LucaCanali/sparkMeasure](https://github.com/LucaCanali/sparkMeasure)  \n",
    "- sparkmeasure Python docs: [docs/Python_shell_and_Jupyter](https://github.com/LucaCanali/sparkMeasure/blob/master/docs/Python_shell_and_Jupyter.md)  \n",
    "\n",
    "**Architecture:**\n",
    "![sparkMeasure architecture diagram](https://github.com/LucaCanali/sparkMeasure/raw/master/docs/sparkMeasure_architecture_diagram.png)\n",
    "\n",
    "Contact: Luca.Canali@cern.ch, February 2019  "
   ]
  },
  {
   "cell_type": "code",
   "execution_count": 1,
   "metadata": {},
   "outputs": [],
   "source": [
    "# Install Spark \n",
    "# Note: This installs the latest Spark version (version 2.4.3, as tested in May 2019)\n",
    "\n",
    "!pip install pyspark"
   ]
  },
  {
   "cell_type": "code",
   "execution_count": 2,
   "metadata": {},
   "outputs": [],
   "source": [
    "from pyspark.sql import SparkSession\n",
    "\n",
    "# Create Spark Session\n",
    "# This example uses a local cluster, you can modify master to use  YARN or K8S if available \n",
    "# This example downloads sparkMeasure 0.13 for scala 2_11 from maven central\n",
    "\n",
    "spark = SparkSession \\\n",
    " .builder \\\n",
    " .master(\"local[*]\") \\\n",
    " .appName(\"Test sparkmeasure instrumentation of Python/PySpark code\") \\\n",
    " .config(\"spark.jars.packages\",\"ch.cern.sparkmeasure:spark-measure_2.11:0.13\")  \\\n",
    " .getOrCreate()"
   ]
  },
  {
   "cell_type": "code",
   "execution_count": 3,
   "metadata": {},
   "outputs": [
    {
     "name": "stdout",
     "output_type": "stream",
     "text": [
      "+---+------------+\n",
      "| id|    Greeting|\n",
      "+---+------------+\n",
      "|  1|Hello world!|\n",
      "+---+------------+\n",
      "\n"
     ]
    }
   ],
   "source": [
    "# test that Spark is working OK\n",
    "spark.sql(\"select 1 as id, 'Hello world!' as Greeting\").show()"
   ]
  },
  {
   "cell_type": "code",
   "execution_count": 4,
   "metadata": {},
   "outputs": [],
   "source": [
    "# Install the Python wrapper API for spark-measure\n",
    "\n",
    "!pip install sparkmeasure"
   ]
  },
  {
   "cell_type": "code",
   "execution_count": 5,
   "metadata": {},
   "outputs": [],
   "source": [
    "# Load the Python API in sparkmeasure package\n",
    "# an attache the sparkMeasure Listener for stagemetrics to the active Spark session\n",
    "\n",
    "from sparkmeasure import StageMetrics\n",
    "stagemetrics = StageMetrics(spark)"
   ]
  },
  {
   "cell_type": "code",
   "execution_count": 6,
   "metadata": {},
   "outputs": [],
   "source": [
    "# Define cell and line magic to wrap the instrumentation\n",
    "from IPython.core.magic import (register_line_magic, register_cell_magic, register_line_cell_magic)\n",
    "\n",
    "@register_line_cell_magic\n",
    "def sparkmeasure(line, cell=None):\n",
    "    \"run and measure spark workload. Use: %sparkmeasure or %%sparkmeasure\"\n",
    "    val = cell if cell is not None else line\n",
    "    stagemetrics.begin()\n",
    "    eval(val)\n",
    "    stagemetrics.end()\n",
    "    stagemetrics.print_report()"
   ]
  },
  {
   "cell_type": "code",
   "execution_count": 7,
   "metadata": {},
   "outputs": [
    {
     "name": "stdout",
     "output_type": "stream",
     "text": [
      "+---------+\n",
      "| count(1)|\n",
      "+---------+\n",
      "|100000000|\n",
      "+---------+\n",
      "\n",
      "\n",
      "Scheduling mode = FIFO\n",
      "Spark Context default degree of parallelism = 8\n",
      "Aggregated Spark stage metrics:\n",
      "numStages => 4\n",
      "sum(numTasks) => 25\n",
      "elapsedTime => 1488 (1 s)\n",
      "sum(stageDuration) => 1456 (1 s)\n",
      "sum(executorRunTime) => 10085 (10 s)\n",
      "sum(executorCpuTime) => 9582 (10 s)\n",
      "sum(executorDeserializeTime) => 172 (0.2 s)\n",
      "sum(executorDeserializeCpuTime) => 83 (83 ms)\n",
      "sum(resultSerializationTime) => 10 (10 ms)\n",
      "sum(jvmGCTime) => 0 (0 ms)\n",
      "sum(shuffleFetchWaitTime) => 0 (0 ms)\n",
      "sum(shuffleWriteTime) => 10 (10 ms)\n",
      "max(resultSize) => 21343 (20.0 KB)\n",
      "sum(numUpdatedBlockStatuses) => 0\n",
      "sum(diskBytesSpilled) => 0 (0 Bytes)\n",
      "sum(memoryBytesSpilled) => 0 (0 Bytes)\n",
      "max(peakExecutionMemory) => 0\n",
      "sum(recordsRead) => 2100\n",
      "sum(bytesRead) => 0 (0 Bytes)\n",
      "sum(recordsWritten) => 0\n",
      "sum(bytesWritten) => 0 (0 Bytes)\n",
      "sum(shuffleTotalBytesRead) => 472 (472 Bytes)\n",
      "sum(shuffleTotalBlocksFetched) => 8\n",
      "sum(shuffleLocalBlocksFetched) => 8\n",
      "sum(shuffleRemoteBlocksFetched) => 0\n",
      "sum(shuffleBytesWritten) => 472 (472 Bytes)\n",
      "sum(shuffleRecordsWritten) => 8\n"
     ]
    }
   ],
   "source": [
    "%%sparkmeasure\n",
    "spark.sql(\"select count(*) from range(1000) cross join range(1000) cross join range(100)\").show()"
   ]
  },
  {
   "cell_type": "code",
   "execution_count": 8,
   "metadata": {},
   "outputs": [
    {
     "name": "stdout",
     "output_type": "stream",
     "text": [
      "\n",
      "Aggregated Spark accumulables of type internal.metric. Sum of values grouped by metric name\n",
      "Name => sum(value) [group by name]\n",
      "\n",
      "executorCpuTime => 9584 (10 s)\n",
      "executorDeserializeCpuTime => 85 (85 ms)\n",
      "executorDeserializeTime => 172 (0.2 s)\n",
      "executorRunTime => 10085 (10 s)\n",
      "input.recordsRead => 2100\n",
      "resultSerializationTime => 10 (10 ms)\n",
      "resultSize => 44249 (43.0 KB)\n",
      "shuffle.read.fetchWaitTime => 0 (0 ms)\n",
      "shuffle.read.localBlocksFetched => 8\n",
      "shuffle.read.localBytesRead => 472 (472 Bytes)\n",
      "shuffle.read.recordsRead => 8\n",
      "shuffle.read.remoteBlocksFetched => 0\n",
      "shuffle.read.remoteBytesRead => 0 (0 Bytes)\n",
      "shuffle.read.remoteBytesReadToDisk => 0 (0 Bytes)\n",
      "shuffle.write.bytesWritten => 472 (472 Bytes)\n",
      "shuffle.write.recordsWritten => 8\n",
      "shuffle.write.writeTime => 10 (10 ms)\n",
      "\n",
      "SQL Metrics and other non-internal metrics. Values grouped per accumulatorId and metric name.\n",
      "Accid, Name => max(value) [group by accId, name]\n",
      "\n",
      "   29, data size total => 119 (119 Bytes)\n",
      "   30, duration total => 2 (2 ms)\n",
      "   31, number of output rows => 1\n",
      "   34, aggregate time total => 2 (2 ms)\n",
      "   36, duration total => 9897 (10 s)\n",
      "   37, number of output rows => 8\n",
      "   40, aggregate time total => 9825 (10 s)\n",
      "   42, number of output rows => 100000000\n",
      "   43, number of output rows => 1000000\n",
      "   44, duration total => 9937 (10 s)\n",
      "   45, number of output rows => 1000\n",
      "   51, number of output rows => 1000\n",
      "   57, number of output rows => 100\n"
     ]
    }
   ],
   "source": [
    "# Print additional metrics from accumulables\n",
    "stagemetrics.print_accumulables()"
   ]
  },
  {
   "cell_type": "code",
   "execution_count": 9,
   "metadata": {},
   "outputs": [
    {
     "name": "stdout",
     "output_type": "stream",
     "text": [
      "+---------+\n",
      "| count(1)|\n",
      "+---------+\n",
      "|100000000|\n",
      "+---------+\n",
      "\n",
      "\n",
      "Scheduling mode = FIFO\n",
      "Spark Context default degree of parallelism = 8\n",
      "Aggregated Spark stage metrics:\n",
      "numStages => 4\n",
      "sum(numTasks) => 25\n",
      "elapsedTime => 1563 (2 s)\n",
      "sum(stageDuration) => 1541 (2 s)\n",
      "sum(executorRunTime) => 11610 (12 s)\n",
      "sum(executorCpuTime) => 11153 (11 s)\n",
      "sum(executorDeserializeTime) => 37 (37 ms)\n",
      "sum(executorDeserializeCpuTime) => 15 (15 ms)\n",
      "sum(resultSerializationTime) => 1 (1 ms)\n",
      "sum(jvmGCTime) => 24 (24 ms)\n",
      "sum(shuffleFetchWaitTime) => 0 (0 ms)\n",
      "sum(shuffleWriteTime) => 1 (1 ms)\n",
      "max(resultSize) => 21343 (20.0 KB)\n",
      "sum(numUpdatedBlockStatuses) => 0\n",
      "sum(diskBytesSpilled) => 0 (0 Bytes)\n",
      "sum(memoryBytesSpilled) => 0 (0 Bytes)\n",
      "max(peakExecutionMemory) => 0\n",
      "sum(recordsRead) => 2100\n",
      "sum(bytesRead) => 0 (0 Bytes)\n",
      "sum(recordsWritten) => 0\n",
      "sum(bytesWritten) => 0 (0 Bytes)\n",
      "sum(shuffleTotalBytesRead) => 472 (472 Bytes)\n",
      "sum(shuffleTotalBlocksFetched) => 8\n",
      "sum(shuffleLocalBlocksFetched) => 8\n",
      "sum(shuffleRemoteBlocksFetched) => 0\n",
      "sum(shuffleBytesWritten) => 472 (472 Bytes)\n",
      "sum(shuffleRecordsWritten) => 8\n"
     ]
    }
   ],
   "source": [
    "# You can also explicitly Wrap your Spark workload into stagemetrics instrumentation \n",
    "# as in this example\n",
    "stagemetrics.begin()\n",
    "\n",
    "spark.sql(\"select count(*) from range(1000) cross join range(1000) cross join range(100)\").show()\n",
    "\n",
    "stagemetrics.end()\n",
    "# Print a summary report\n",
    "stagemetrics.print_report()"
   ]
  },
  {
   "cell_type": "code",
   "execution_count": 10,
   "metadata": {},
   "outputs": [
    {
     "name": "stdout",
     "output_type": "stream",
     "text": [
      "+---------+\n",
      "| count(1)|\n",
      "+---------+\n",
      "|100000000|\n",
      "+---------+\n",
      "\n",
      "\n",
      "Scheduling mode = FIFO\n",
      "Spark Context default degree of parallelism = 8\n",
      "Aggregated Spark stage metrics:\n",
      "numStages => 4\n",
      "sum(numTasks) => 25\n",
      "elapsedTime => 1518 (2 s)\n",
      "sum(stageDuration) => 1493 (1 s)\n",
      "sum(executorRunTime) => 11473 (11 s)\n",
      "sum(executorCpuTime) => 11134 (11 s)\n",
      "sum(executorDeserializeTime) => 54 (54 ms)\n",
      "sum(executorDeserializeCpuTime) => 18 (18 ms)\n",
      "sum(resultSerializationTime) => 0 (0 ms)\n",
      "sum(jvmGCTime) => 40 (40 ms)\n",
      "sum(shuffleFetchWaitTime) => 0 (0 ms)\n",
      "sum(shuffleWriteTime) => 1 (1 ms)\n",
      "max(resultSize) => 21472 (20.0 KB)\n",
      "sum(numUpdatedBlockStatuses) => 0\n",
      "sum(diskBytesSpilled) => 0 (0 Bytes)\n",
      "sum(memoryBytesSpilled) => 0 (0 Bytes)\n",
      "max(peakExecutionMemory) => 0\n",
      "sum(recordsRead) => 2100\n",
      "sum(bytesRead) => 0 (0 Bytes)\n",
      "sum(recordsWritten) => 0\n",
      "sum(bytesWritten) => 0 (0 Bytes)\n",
      "sum(shuffleTotalBytesRead) => 472 (472 Bytes)\n",
      "sum(shuffleTotalBlocksFetched) => 8\n",
      "sum(shuffleLocalBlocksFetched) => 8\n",
      "sum(shuffleRemoteBlocksFetched) => 0\n",
      "sum(shuffleBytesWritten) => 472 (472 Bytes)\n",
      "sum(shuffleRecordsWritten) => 8\n"
     ]
    }
   ],
   "source": [
    "# Another way to encapsulate code and instrumentation in a compact form\n",
    "\n",
    "stagemetrics.runandmeasure(locals(), \"\"\"\n",
    "spark.sql(\"select count(*) from range(1000) cross join range(1000) cross join range(100)\").show()\n",
    "\"\"\")"
   ]
  },
  {
   "cell_type": "markdown",
   "metadata": {},
   "source": [
    "## Example of collecting using Task Metrics\n",
    "Collecting Spark task metrics at the granularity of each task completion has additional overhead\n",
    "compare to collecting at the stage completion level, therefore this option should only be used if you need data with this finer granularity, for example because you want\n",
    "to study skew effects, otherwise consider using stagemetrics aggregation as preferred choice.\n"
   ]
  },
  {
   "cell_type": "code",
   "execution_count": 11,
   "metadata": {},
   "outputs": [
    {
     "name": "stdout",
     "output_type": "stream",
     "text": [
      "+---------+\n",
      "| count(1)|\n",
      "+---------+\n",
      "|100000000|\n",
      "+---------+\n",
      "\n",
      "\n",
      "Scheduling mode = FIFO\n",
      "Spark Contex default degree of parallelism = 8\n",
      "Aggregated Spark task metrics:\n",
      "numtasks => 25\n",
      "elapsedTime => 1478 (1 s)\n",
      "sum(duration) => 11402 (11 s)\n",
      "sum(schedulerDelay) => 62\n",
      "sum(executorRunTime) => 11299 (11 s)\n",
      "sum(executorCpuTime) => 11208 (11 s)\n",
      "sum(executorDeserializeTime) => 40 (40 ms)\n",
      "sum(executorDeserializeCpuTime) => 7 (7 ms)\n",
      "sum(resultSerializationTime) => 1 (1 ms)\n",
      "sum(jvmGCTime) => 0 (0 ms)\n",
      "sum(shuffleFetchWaitTime) => 0 (0 ms)\n",
      "sum(shuffleWriteTime) => 0 (0 ms)\n",
      "sum(gettingResultTime) => 0 (0 ms)\n",
      "max(resultSize) => 2641 (2.0 KB)\n",
      "sum(numUpdatedBlockStatuses) => 0\n",
      "sum(diskBytesSpilled) => 0 (0 Bytes)\n",
      "sum(memoryBytesSpilled) => 0 (0 Bytes)\n",
      "max(peakExecutionMemory) => 0\n",
      "sum(recordsRead) => 2100\n",
      "sum(bytesRead) => 0 (0 Bytes)\n",
      "sum(recordsWritten) => 0\n",
      "sum(bytesWritten) => 0 (0 Bytes)\n",
      "sum(shuffleTotalBytesRead) => 472 (472 Bytes)\n",
      "sum(shuffleTotalBlocksFetched) => 8\n",
      "sum(shuffleLocalBlocksFetched) => 8\n",
      "sum(shuffleRemoteBlocksFetched) => 0\n",
      "sum(shuffleBytesWritten) => 472 (472 Bytes)\n",
      "sum(shuffleRecordsWritten) => 8\n"
     ]
    }
   ],
   "source": [
    "from sparkmeasure import TaskMetrics\n",
    "taskmetrics = TaskMetrics(spark)\n",
    "\n",
    "taskmetrics.begin()\n",
    "spark.sql(\"select count(*) from range(1000) cross join range(1000) cross join range(100)\").show()\n",
    "taskmetrics.end()\n",
    "taskmetrics.print_report()"
   ]
  },
  {
   "cell_type": "code",
   "execution_count": null,
   "metadata": {},
   "outputs": [],
   "source": []
  }
 ],
 "metadata": {
  "kernelspec": {
   "display_name": "Python 3",
   "language": "python",
   "name": "python3"
  },
  "language_info": {
   "codemirror_mode": {
    "name": "ipython",
    "version": 3
   },
   "file_extension": ".py",
   "mimetype": "text/x-python",
   "name": "python",
   "nbconvert_exporter": "python",
   "pygments_lexer": "ipython3",
   "version": "3.7.0"
  }
 },
 "nbformat": 4,
 "nbformat_minor": 2
}
